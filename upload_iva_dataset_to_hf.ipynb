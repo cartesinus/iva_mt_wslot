{
  "nbformat": 4,
  "nbformat_minor": 0,
  "metadata": {
    "colab": {
      "provenance": []
    },
    "kernelspec": {
      "name": "python3",
      "display_name": "Python 3"
    },
    "language_info": {
      "name": "python"
    }
  },
  "cells": [
    {
      "cell_type": "code",
      "execution_count": null,
      "metadata": {
        "id": "bzhUftxvvjxe"
      },
      "outputs": [],
      "source": [
        "%%capture\n",
        "!pip install datasets evaluate transformers[sentencepiece]"
      ]
    },
    {
      "cell_type": "code",
      "source": [
        "import datasets\n",
        "\n",
        "\n",
        "iva_mt_features = datasets.Features(\n",
        "    {\n",
        "        \"id\": datasets.Value(\"int64\"),\n",
        "        \"locale\": datasets.Value(\"string\"),\n",
        "        \"origin\": datasets.Value(\"string\"),\n",
        "        \"partition\": datasets.Value(\"string\"),\n",
        "        \"translation_utt\": datasets.features.Translation(languages=['en', 'pl']),\n",
        "        \"translation_xml\": datasets.features.Translation(languages=['en', 'pl']),\n",
        "        \"src_bio\": datasets.Value(\"string\"),\n",
        "        \"tgt_bio\": datasets.Value(\"string\")\n",
        "    },\n",
        ")\n",
        "\n",
        "import pandas as pd\n",
        "from datasets import load_dataset\n",
        "\n",
        "\n",
        "data_files ={\n",
        "    \"train\": \"iva_mt_wslot-dataset-en2pl-0.1.0-train-20230309.json\",\n",
        "    \"validation\": \"iva_mt_wslot-dataset-en2pl-0.1.0-validation-20230309.json\",\n",
        "    \"test\": \"iva_mt_wslot-dataset-en2pl-0.1.0-test-20230309.json\"\n",
        "}\n",
        "\n",
        "iva_mt = load_dataset(\"json\", data_files=data_files, field='data', features=iva_mt_features)"
      ],
      "metadata": {
        "id": "80fQnCc2vu1X"
      },
      "execution_count": null,
      "outputs": []
    },
    {
      "cell_type": "markdown",
      "source": [
        "login to HF and push dataset:"
      ],
      "metadata": {
        "id": "a_hDuN_pwJEm"
      }
    },
    {
      "cell_type": "code",
      "source": [
        "from huggingface_hub import notebook_login\n",
        "\n",
        "notebook_login()"
      ],
      "metadata": {
        "id": "-MBK1a3Mv-ST"
      },
      "execution_count": null,
      "outputs": []
    },
    {
      "cell_type": "code",
      "source": [
        "iva_mt.push_to_hub(\"iva_mt_wslot\")"
      ],
      "metadata": {
        "id": "NrUXplahwBxv"
      },
      "execution_count": null,
      "outputs": []
    }
  ]
}